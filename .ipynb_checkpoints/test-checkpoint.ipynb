{
 "cells": [
  {
   "cell_type": "markdown",
   "id": "931b2dfa-42d5-4523-8d77-d82eb50eb99d",
   "metadata": {},
   "source": [
    "# Pandas Visualization"
   ]
  },
  {
   "cell_type": "code",
   "execution_count": null,
   "id": "37faf739-ac88-4738-9b7a-84e455198869",
   "metadata": {},
   "outputs": [],
   "source": [
    "import pandas as pd\n",
    "import numpy as np\n",
    "import matplotlib.pylot as plt"
   ]
  },
  {
   "cell_type": "code",
   "execution_count": null,
   "id": "12baffed-16ff-4c6e-9120-e99206432c5e",
   "metadata": {},
   "outputs": [],
   "source": []
  }
 ],
 "metadata": {
  "kernelspec": {
   "display_name": "Python 3 (ipykernel)",
   "language": "python",
   "name": "python3"
  },
  "language_info": {
   "codemirror_mode": {
    "name": "ipython",
    "version": 3
   },
   "file_extension": ".py",
   "mimetype": "text/x-python",
   "name": "python",
   "nbconvert_exporter": "python",
   "pygments_lexer": "ipython3",
   "version": "3.13.4"
  }
 },
 "nbformat": 4,
 "nbformat_minor": 5
}
